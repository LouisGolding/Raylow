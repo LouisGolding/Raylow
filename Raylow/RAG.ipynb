{
 "cells": [
  {
   "cell_type": "code",
   "execution_count": 29,
   "metadata": {},
   "outputs": [
    {
     "ename": "",
     "evalue": "",
     "output_type": "error",
     "traceback": [
      "\u001b[1;31mThe kernel failed to start as the Python Environment 'Python' is no longer available. Consider selecting another kernel or refreshing the list of Python Environments."
     ]
    }
   ],
   "source": [
    "### Python 3.12.3\n",
    "import requests \n",
    "import json\n",
    "import fitz # PyMuPDF\n",
    "import sys\n",
    "from Prompts.prompt_LLM import *\n",
    "from langchain_community.llms import Ollama\n",
    "\n"
   ]
  },
  {
   "cell_type": "code",
   "execution_count": 30,
   "metadata": {},
   "outputs": [],
   "source": [
    "user_query = \"I am at the beginning of CSRD reporting. I don't know the slightest thing about it\""
   ]
  },
  {
   "cell_type": "markdown",
   "metadata": {},
   "source": [
    "### Preprocessing"
   ]
  },
  {
   "cell_type": "code",
   "execution_count": 31,
   "metadata": {},
   "outputs": [],
   "source": [
    "corpus_of_documents = \"Regulations/Celesia_CSRD.pdf\""
   ]
  },
  {
   "cell_type": "code",
   "execution_count": 32,
   "metadata": {},
   "outputs": [],
   "source": [
    "def extract_text_from_pdf(pdf_path):\n",
    "    doc = fitz.open(pdf_path)\n",
    "    text = \"\"\n",
    "    for page in doc:\n",
    "        text += page.get_text()\n",
    "    return text\n",
    "\n",
    "# 2. Preprocess the extracted text into smaller chunks\n",
    "def split_text_into_chunks(text, chunk_size=500):\n",
    "    words = text.split(\" \")\n",
    "    chunks = [' '.join(words[i:i+chunk_size]) for i in range(0, len(words), chunk_size)]\n",
    "    return chunks\n"
   ]
  },
  {
   "cell_type": "code",
   "execution_count": 33,
   "metadata": {},
   "outputs": [],
   "source": [
    "def jaccard_similarity(query, document):\n",
    "    query = query.lower().split(\" \")\n",
    "    document = document.lower().split(\" \")\n",
    "    intersection = set(query).intersection(set(document))\n",
    "    union = set(query).union(set(document))\n",
    "    return(len(intersection) / len(union))\n",
    "\n",
    "def return_response(query, corpus):\n",
    "    \"\"\"Return the most relevant document chunk based on Jaccard similarity.\"\"\"\n",
    "\n",
    "    similarities = [jaccard_similarity(query, doc) for doc in corpus]\n",
    "    return corpus[similarities.index(max(similarities))]\n",
    "\n"
   ]
  },
  {
   "cell_type": "markdown",
   "metadata": {},
   "source": [
    "### Ollama"
   ]
  },
  {
   "cell_type": "code",
   "execution_count": 34,
   "metadata": {},
   "outputs": [],
   "source": [
    "ollama_model = Ollama(model=\"llama3.2\", base_url=\"http://127.0.0.1:11434\")\n"
   ]
  },
  {
   "cell_type": "code",
   "execution_count": 35,
   "metadata": {},
   "outputs": [],
   "source": [
    "def query_ollama_model(query, context, prompt=PROMPT1):\n",
    "    \"\"\"Query the Ollama model with the given query and context.\"\"\"\n",
    "    formatted_prompt = prompt.format(context=context, query=query)\n",
    "\n",
    "    print(f\"formatted prompt: {formatted_prompt}\")\n",
    "    \n",
    "    try:\n",
    "        response = ollama_model.predict(formatted_prompt)\n",
    "        return response\n",
    "    except requests.ConnectionError as e:\n",
    "        print(f\"Failed to connect to Ollama server: {e}\")\n",
    "        response = {\"generated_text\": \"Connection failed, please check server.\"}\n",
    "\n",
    "\n",
    "def process_pdf_with_ollama(pdf_path, user_query):\n",
    "    # Step 1: Extract text from the PDF\n",
    "    pdf_text = extract_text_from_pdf(pdf_path)\n",
    "    \n",
    "    document_chunks = split_text_into_chunks(pdf_text)\n",
    "\n",
    "    print(\"document chunks: \", document_chunks)\n",
    "    \n",
    "    relevant_chunk = return_response(user_query, document_chunks)\n",
    "\n",
    "    print(\"relevant chunk: \", relevant_chunk)\n",
    "    \n",
    "    response = query_ollama_model(user_query, relevant_chunk)\n",
    "    \n",
    "    return response"
   ]
  },
  {
   "cell_type": "markdown",
   "metadata": {},
   "source": [
    "### Launching the Model"
   ]
  },
  {
   "cell_type": "code",
   "execution_count": null,
   "metadata": {},
   "outputs": [],
   "source": [
    "response = process_pdf_with_ollama(corpus_of_documents, user_query)\n",
    "print(\"Model Response:\", response)"
   ]
  }
 ],
 "metadata": {
  "kernelspec": {
   "display_name": "Python 3",
   "language": "python",
   "name": "python3"
  },
  "language_info": {
   "codemirror_mode": {
    "name": "ipython",
    "version": 3
   },
   "file_extension": ".py",
   "mimetype": "text/x-python",
   "name": "python",
   "nbconvert_exporter": "python",
   "pygments_lexer": "ipython3",
   "version": "3.12.3"
  }
 },
 "nbformat": 4,
 "nbformat_minor": 2
}
